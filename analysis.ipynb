{
 "cells": [
  {
   "cell_type": "code",
   "execution_count": 2,
   "metadata": {
    "collapsed": false
   },
   "outputs": [
    {
     "data": {
      "text/html": [
       "<script>\n",
       "code_show=true; \n",
       "function code_toggle() {\n",
       " if (code_show){\n",
       " $('div.input').hide();\n",
       " } else {\n",
       " $('div.input').show();\n",
       " }\n",
       " code_show = !code_show\n",
       "} \n",
       "$( document ).ready(code_toggle);\n",
       "</script>\n",
       "<form action=\"javascript:code_toggle()\"><input type=\"submit\" value=\"Click here to toggle on/off the raw code.\"></form>"
      ],
      "text/plain": [
       "<IPython.core.display.HTML object>"
      ]
     },
     "execution_count": 2,
     "metadata": {},
     "output_type": "execute_result"
    }
   ],
   "source": [
    "from IPython.display import HTML\n",
    "\n",
    "HTML('''<script>\n",
    "code_show=true; \n",
    "function code_toggle() {\n",
    " if (code_show){\n",
    " $('div.input').hide();\n",
    " } else {\n",
    " $('div.input').show();\n",
    " }\n",
    " code_show = !code_show\n",
    "} \n",
    "$( document ).ready(code_toggle);\n",
    "</script>\n",
    "<form action=\"javascript:code_toggle()\"><input type=\"submit\" value=\"Click here to toggle on/off the raw code.\"></form>''')"
   ]
  },
  {
   "cell_type": "code",
   "execution_count": 3,
   "metadata": {
    "collapsed": false
   },
   "outputs": [
    {
     "name": "stderr",
     "output_type": "stream",
     "text": [
      "/Users/Ajay/anaconda/lib/python2.7/site-packages/matplotlib/font_manager.py:273: UserWarning: Matplotlib is building the font cache using fc-list. This may take a moment.\n",
      "  warnings.warn('Matplotlib is building the font cache using fc-list. This may take a moment.')\n",
      "/Users/Ajay/anaconda/lib/python2.7/site-packages/matplotlib/__init__.py:872: UserWarning: axes.color_cycle is deprecated and replaced with axes.prop_cycle; please use the latter.\n",
      "  warnings.warn(self.msg_depr % (key, alt_key))\n"
     ]
    },
    {
     "name": "stdout",
     "output_type": "stream",
     "text": [
      "Populating the interactive namespace from numpy and matplotlib\n"
     ]
    }
   ],
   "source": [
    "import httpagentparser\n",
    "\n",
    "import pandas as pd\n",
    "import numpy as np\n",
    "import json\n",
    "\n",
    "from sklearn import cross_validation\n",
    "from sklearn.cross_validation import train_test_split\n",
    "from sklearn.preprocessing import StandardScaler\n",
    "\n",
    "from sklearn.ensemble import RandomForestClassifier\n",
    "from sklearn.linear_model import LogisticRegression\n",
    "\n",
    "import matplotlib.pyplot as plt\n",
    "import seaborn as sns\n",
    "plt.style.use('ggplot')\n",
    "%pylab inline\n",
    "\n",
    "import warnings\n",
    "warnings.filterwarnings('ignore')"
   ]
  },
  {
   "cell_type": "code",
   "execution_count": 4,
   "metadata": {
    "collapsed": false
   },
   "outputs": [],
   "source": [
    "from sklearn.preprocessing import LabelEncoder\n",
    "from sklearn.cross_validation import cross_val_score\n",
    "from sklearn.cross_validation import KFold\n",
    "from xgboost.sklearn import XGBClassifier\n",
    "from ndcg import ndcg_scorer"
   ]
  },
  {
   "cell_type": "code",
   "execution_count": 5,
   "metadata": {
    "collapsed": false
   },
   "outputs": [
    {
     "name": "stdout",
     "output_type": "stream",
     "text": [
      " 3137627 decodes01\n",
      "   10000 smaller_decodes01\n"
     ]
    }
   ],
   "source": [
    "!wc -l decodes01\n",
    "!head -10000 decodes01 > smaller_decodes01\n",
    "!wc -l smaller_decodes01"
   ]
  },
  {
   "cell_type": "markdown",
   "metadata": {},
   "source": [
    "### This training set size was chosen to prototype on the first iteration."
   ]
  },
  {
   "cell_type": "code",
   "execution_count": 6,
   "metadata": {
    "collapsed": false,
    "scrolled": true
   },
   "outputs": [
    {
     "data": {
      "text/html": [
       "<div>\n",
       "<table border=\"1\" class=\"dataframe\">\n",
       "  <thead>\n",
       "    <tr style=\"text-align: right;\">\n",
       "      <th></th>\n",
       "      <th>a</th>\n",
       "      <th>c</th>\n",
       "      <th>ckw</th>\n",
       "      <th>cy</th>\n",
       "      <th>dp</th>\n",
       "      <th>g</th>\n",
       "      <th>h</th>\n",
       "      <th>kw</th>\n",
       "      <th>mc</th>\n",
       "      <th>nk</th>\n",
       "      <th>pp</th>\n",
       "      <th>t</th>\n",
       "      <th>tz</th>\n",
       "      <th>u</th>\n",
       "    </tr>\n",
       "  </thead>\n",
       "  <tbody>\n",
       "    <tr>\n",
       "      <th>0</th>\n",
       "      <td>Mozilla/5.0 (Linux; Android 4.4.2; GT-I9507 Bu...</td>\n",
       "      <td>AU</td>\n",
       "      <td>NaN</td>\n",
       "      <td>Perth</td>\n",
       "      <td>NaN</td>\n",
       "      <td>1H8wL5d</td>\n",
       "      <td>1H8wL5c</td>\n",
       "      <td>NaN</td>\n",
       "      <td>NaN</td>\n",
       "      <td>1</td>\n",
       "      <td>NaN</td>\n",
       "      <td>1427288399</td>\n",
       "      <td>Australia/West</td>\n",
       "      <td>http://www.airasia.com/au/en/promotion/rr05509...</td>\n",
       "    </tr>\n",
       "    <tr>\n",
       "      <th>1</th>\n",
       "      <td>Mozilla/5.0 (compatible; MSIE 9.0; Windows NT ...</td>\n",
       "      <td>US</td>\n",
       "      <td>NaN</td>\n",
       "      <td>Mountain View</td>\n",
       "      <td>NaN</td>\n",
       "      <td>1lj67KQ</td>\n",
       "      <td>1xupVE6</td>\n",
       "      <td>NaN</td>\n",
       "      <td>807.0</td>\n",
       "      <td>0</td>\n",
       "      <td>NaN</td>\n",
       "      <td>1427288399</td>\n",
       "      <td>America/Los_Angeles</td>\n",
       "      <td>https://cdn.adf.ly/js/display.js</td>\n",
       "    </tr>\n",
       "  </tbody>\n",
       "</table>\n",
       "</div>"
      ],
      "text/plain": [
       "                                                   a   c  ckw             cy  \\\n",
       "0  Mozilla/5.0 (Linux; Android 4.4.2; GT-I9507 Bu...  AU  NaN          Perth   \n",
       "1  Mozilla/5.0 (compatible; MSIE 9.0; Windows NT ...  US  NaN  Mountain View   \n",
       "\n",
       "    dp        g        h   kw     mc  nk   pp           t  \\\n",
       "0  NaN  1H8wL5d  1H8wL5c  NaN    NaN   1  NaN  1427288399   \n",
       "1  NaN  1lj67KQ  1xupVE6  NaN  807.0   0  NaN  1427288399   \n",
       "\n",
       "                    tz                                                  u  \n",
       "0       Australia/West  http://www.airasia.com/au/en/promotion/rr05509...  \n",
       "1  America/Los_Angeles                   https://cdn.adf.ly/js/display.js  "
      ]
     },
     "execution_count": 6,
     "metadata": {},
     "output_type": "execute_result"
    }
   ],
   "source": [
    "#grab the data\n",
    "with open('smaller_decodes01', 'rb') as f:\n",
    "    data = f.readlines()\n",
    "\n",
    "# remove the trailing \"\\n\" from each line\n",
    "data = map(lambda x: x.rstrip(), data)\n",
    "\n",
    "data_json_str = \"[\" + ','.join(data) + \"]\"\n",
    "\n",
    "# now, load it into pandas\n",
    "df = pd.read_json(data_json_str)\n",
    "df[:2]"
   ]
  },
  {
   "cell_type": "markdown",
   "metadata": {},
   "source": [
    "### Swapping column names to something more friendly to humans :-)"
   ]
  },
  {
   "cell_type": "code",
   "execution_count": 7,
   "metadata": {
    "collapsed": false,
    "scrolled": true
   },
   "outputs": [
    {
     "name": "stdout",
     "output_type": "stream",
     "text": [
      "new column names\n",
      "====================\n",
      "browser_user_agent\n",
      "country_(two-letter_code)\n",
      "repeat_client\n",
      "timezone\n",
      "Bitly_global_hash_identifier\n",
      "Bitly_user_hash_identifier\n",
      "custom_keyword\n",
      "city_(optional)\n",
      "long_URL\n",
      "timestamp_(UTC)\n",
      "keyword_alias_for_user_hash\n"
     ]
    }
   ],
   "source": [
    "column_map = {\n",
    "    'h': 'Bitly user hash identifier',\n",
    "    'g': 'Bitly global hash identifier',\n",
    "    'a': 'browser user agent',\n",
    "    'u': 'long URL',\n",
    "    't': 'timestamp (UTC)',\n",
    "    'c': 'country (two-letter code)',\n",
    "    'nk': 'repeat client',\n",
    "    'kw': 'keyword alias for user hash',\n",
    "    'ckw': 'custom keyword',\n",
    "    'cy': 'city (optional)',\n",
    "    'tz': 'timezone',\n",
    "}\n",
    "\n",
    "#swapping out the spaces with underscores\n",
    "column_map = {key: '_'.join(val.split()) for key, val in column_map.items()}\n",
    "\n",
    "#convert it to a feature matrix\n",
    "df_feature_M = df[column_map.keys()]\n",
    "\n",
    "#convert the names\n",
    "df_feature_M.rename(columns=column_map, inplace=True)\n",
    "print 'new column names'\n",
    "print '=' * 20\n",
    "print '\\n'.join(df_feature_M.columns)"
   ]
  },
  {
   "cell_type": "markdown",
   "metadata": {},
   "source": [
    "### Parsing the UA string\n",
    "\n",
    "To parse the UA string I chose httpagentparser because it yielded the most homogenous results. There might be better libraries out there but for now we're sticking with this library."
   ]
  },
  {
   "cell_type": "code",
   "execution_count": 8,
   "metadata": {
    "collapsed": false
   },
   "outputs": [
    {
     "data": {
      "text/plain": [
       "<matplotlib.axes._subplots.AxesSubplot at 0x10ec1fb90>"
      ]
     },
     "execution_count": 8,
     "metadata": {},
     "output_type": "execute_result"
    },
    {
     "data": {
      "image/png": "[encoded data removed]",
      "text/plain": [
       "<matplotlib.figure.Figure at 0x10b8a6b50>"
      ]
     },
     "metadata": {},
     "output_type": "display_data"
    }
   ],
   "source": [
    "from user_agents import parse\n",
    "\n",
    "def parse_for_browser(user_agent_str):\n",
    "    user_agent = parse(user_agent_str)\n",
    "    return user_agent.browser.family\n",
    "\n",
    "df_del = df_feature_M.copy()\n",
    "df_del['browser_type'] = df_del.browser_user_agent.apply(parse_for_browser)\n",
    "df_del['browser_type'].value_counts(1)[:10].plot(kind='barh')"
   ]
  },
  {
   "cell_type": "markdown",
   "metadata": {},
   "source": [
    "For this particular exercise Facebook should'nt be considered a valid type of browser and if we replace Facebook with Unknown we'll see that httpagentparser is best parser since it does a better job of finding the majority class. There's a much larger plot of the distribution below."
   ]
  },
  {
   "cell_type": "markdown",
   "metadata": {},
   "source": [
    "### Comparing the two parsers:"
   ]
  },
  {
   "cell_type": "code",
   "execution_count": 9,
   "metadata": {
    "collapsed": false,
    "scrolled": true
   },
   "outputs": [
    {
     "name": "stdout",
     "output_type": "stream",
     "text": [
      "user_agents\n",
      "-----------\n"
     ]
    },
    {
     "data": {
      "text/plain": [
       "Facebook                   0.2883\n",
       "Chrome                     0.1674\n",
       "IE                         0.1454\n",
       "Mobile Safari UIWebView    0.0735\n",
       "Chrome Mobile              0.0720\n",
       "Firefox                    0.0594\n",
       "Android                    0.0497\n",
       "Other                      0.0367\n",
       "Mobile Safari              0.0298\n",
       "Opera Mini                 0.0143\n",
       "Name: browser_type, dtype: float64"
      ]
     },
     "execution_count": 9,
     "metadata": {},
     "output_type": "execute_result"
    }
   ],
   "source": [
    "print 'user_agents'\n",
    "print '-' * len('user_agents')\n",
    "df_del['browser_type'].value_counts(1)[:10]"
   ]
  },
  {
   "cell_type": "code",
   "execution_count": 10,
   "metadata": {
    "collapsed": true
   },
   "outputs": [],
   "source": [
    "#Freeing up memory\n",
    "df_del = None"
   ]
  },
  {
   "cell_type": "code",
   "execution_count": 11,
   "metadata": {
    "collapsed": false
   },
   "outputs": [
    {
     "name": "stdout",
     "output_type": "stream",
     "text": [
      "httpagentparser\n",
      "---------------\n"
     ]
    },
    {
     "data": {
      "text/plain": [
       "Chrome                         0.3466\n",
       "Unknown                        0.2639\n",
       "Microsoft Internet Explorer    0.1577\n",
       "AndroidBrowser                 0.0969\n",
       "Firefox                        0.0614\n",
       "Safari                         0.0477\n",
       "Opera                          0.0183\n",
       "UCBrowser                      0.0032\n",
       "ChromeiOS                      0.0017\n",
       "SeaMonkey                      0.0009\n",
       "Name: browser_type, dtype: float64"
      ]
     },
     "execution_count": 11,
     "metadata": {},
     "output_type": "execute_result"
    }
   ],
   "source": [
    "def grab_browser_name(ua_str):\n",
    "    browser = httpagentparser.detect(ua_str).get('browser')\n",
    "    return browser['name'] if browser else 'Unknown'\n",
    "\n",
    "df_feature_M['browser_type'] = df_feature_M.browser_user_agent.apply(grab_browser_name)\n",
    "print 'httpagentparser'\n",
    "print '-' * len('httpagentparser')\n",
    "df_feature_M['browser_type'].value_counts(1)[:10]"
   ]
  },
  {
   "cell_type": "markdown",
   "metadata": {},
   "source": [
    "## Making a quick hash map with users as keys and browsers as values\n",
    "\n",
    "Dummytizing the top X users and using a hash table to lookup thier browser would be a smart thing to do but that doesn't seem necessary if we know we have the UA string and we're just trying to classify the 'other'/'unknown' types of browsers. On a side note, I did a quick check and noticed one the user aliases had several browsers associated with thier hash."
   ]
  },
  {
   "cell_type": "code",
   "execution_count": 12,
   "metadata": {
    "collapsed": false,
    "scrolled": true
   },
   "outputs": [
    {
     "data": {
      "text/plain": [
       "''"
      ]
     },
     "execution_count": 12,
     "metadata": {},
     "output_type": "execute_result"
    },
    {
     "data": {
      "image/png": "[encoded data removed]",
      "text/plain": [
       "<matplotlib.figure.Figure at 0x10ec5af90>"
      ]
     },
     "metadata": {},
     "output_type": "display_data"
    }
   ],
   "source": [
    "# if there's a browser type clearly identified w the user, it should be stored with the key/hash\n",
    "# bar charts of user_hash_tags vs unique_user hashtags\n",
    "\n",
    "df_feature_M.keyword_alias_for_user_hash.value_counts(1)[:10][::-1].plot(kind='barh')\n",
    ";"
   ]
  },
  {
   "cell_type": "markdown",
   "metadata": {},
   "source": [
    "As an example this hash '24workpng1' seems to apply to many different browsers"
   ]
  },
  {
   "cell_type": "code",
   "execution_count": 13,
   "metadata": {
    "collapsed": false,
    "scrolled": true
   },
   "outputs": [
    {
     "name": "stdout",
     "output_type": "stream",
     "text": [
      "Chrome\n",
      "Microsoft Internet Explorer\n",
      "Firefox\n",
      "AndroidBrowser\n"
     ]
    }
   ],
   "source": [
    "mask = df_feature_M.keyword_alias_for_user_hash == '24workpng1' \n",
    "print '\\n'.join(df_feature_M[mask].browser_type.unique())"
   ]
  },
  {
   "cell_type": "code",
   "execution_count": 14,
   "metadata": {
    "collapsed": true
   },
   "outputs": [],
   "source": [
    "drop_of_interest = [\n",
    "    'browser_user_agent',\n",
    "    'Bitly_user_hash_identifier',\n",
    "    'long_URL',\n",
    "    'keyword_alias_for_user_hash',\n",
    "    'custom_keyword',\n",
    "    'city_(optional)',\n",
    "    'Bitly_global_hash_identifier',\n",
    "    'timestamp_(UTC)',\n",
    "    'country_(two-letter_code)',\n",
    "    'new',\n",
    "    'timezone'\n",
    "    ]"
   ]
  },
  {
   "cell_type": "code",
   "execution_count": 15,
   "metadata": {
    "collapsed": false
   },
   "outputs": [
    {
     "name": "stdout",
     "output_type": "stream",
     "text": [
      "<class 'pandas.core.frame.DataFrame'>\n",
      "Int64Index: 10000 entries, 0 to 9999\n",
      "Data columns (total 12 columns):\n",
      "browser_user_agent              10000 non-null object\n",
      "country_(two-letter_code)       9956 non-null object\n",
      "repeat_client                   10000 non-null int64\n",
      "timezone                        9034 non-null object\n",
      "Bitly_global_hash_identifier    10000 non-null object\n",
      "Bitly_user_hash_identifier      10000 non-null object\n",
      "custom_keyword                  33 non-null object\n",
      "city_(optional)                 7932 non-null object\n",
      "long_URL                        10000 non-null object\n",
      "timestamp_(UTC)                 10000 non-null int64\n",
      "keyword_alias_for_user_hash     1203 non-null object\n",
      "browser_type                    10000 non-null object\n",
      "dtypes: int64(2), object(10)\n",
      "memory usage: 1015.6+ KB\n"
     ]
    }
   ],
   "source": [
    "df_feature_M.info()"
   ]
  },
  {
   "cell_type": "markdown",
   "metadata": {},
   "source": [
    "## Feature Engineering\n",
    "\n",
    "I thought there might have been some signal in the existence of a user alias or custom keyword. Only one way to check! So I'm just making some dummy variables to check whether or not an alias exists."
   ]
  },
  {
   "cell_type": "code",
   "execution_count": 16,
   "metadata": {
    "collapsed": false
   },
   "outputs": [
    {
     "data": {
      "text/plain": [
       "0    True\n",
       "1    True\n",
       "2    True\n",
       "3    True\n",
       "4    True\n",
       "Name: new_custom_keyword, dtype: bool"
      ]
     },
     "execution_count": 16,
     "metadata": {},
     "output_type": "execute_result"
    }
   ],
   "source": [
    "#boolean if it exist or not\n",
    "df_feature_M['new_custom_keyword'] = df_feature_M.custom_keyword.isnull()\n",
    "df_feature_M['new_custom_keyword'][:5]"
   ]
  },
  {
   "cell_type": "code",
   "execution_count": 17,
   "metadata": {
    "collapsed": false
   },
   "outputs": [
    {
     "data": {
      "text/plain": [
       "0     True\n",
       "1     True\n",
       "2     True\n",
       "3     True\n",
       "4    False\n",
       "Name: new_keyword_alias_for_user_hash, dtype: bool"
      ]
     },
     "execution_count": 17,
     "metadata": {},
     "output_type": "execute_result"
    }
   ],
   "source": [
    "#boolean if it exist or not\n",
    "df_feature_M['new_keyword_alias_for_user_hash'] = df_feature_M.keyword_alias_for_user_hash.isnull()\n",
    "df_feature_M['new_keyword_alias_for_user_hash'][:5]"
   ]
  },
  {
   "cell_type": "code",
   "execution_count": 18,
   "metadata": {
    "collapsed": false,
    "scrolled": false
   },
   "outputs": [
    {
     "data": {
      "image/png": "[encoded data removed]",
      "text/plain": [
       "<matplotlib.figure.Figure at 0x10f18b490>"
      ]
     },
     "metadata": {},
     "output_type": "display_data"
    }
   ],
   "source": [
    "def plot_dist(df_to_plot, series_name, lab):\n",
    "    '''    \n",
    "    INPUT: DF, name of the column or series, label for the x-axis\n",
    "    OUTPUT: distribution of violation codes sorted by popularity (Bar Chart)\n",
    "    '''\n",
    "\n",
    "    # create a figure of given size\n",
    "    fig = plt.figure(figsize=(10,20))\n",
    "\n",
    "    # add a subplot\n",
    "    ax = fig.add_subplot(111)\n",
    "    \n",
    "    # set color transparency (0: transparent; 1: solid)\n",
    "    a = 0.8\n",
    "\n",
    "    # set x axis label on top of plot, set label text\n",
    "    ax.xaxis.set_label_position('bottom')\n",
    "    xlab = lab\n",
    "    ax.set_xlabel(xlab, fontsize=20, alpha=a, ha='left')\n",
    "    ax.xaxis.set_label_coords(0, 1.04)\n",
    "\n",
    "    # position x tick labels on top\n",
    "    ax.xaxis.tick_top()\n",
    "\n",
    "    # remove tick lines in x and y axes\n",
    "    ax.yaxis.set_ticks_position('none')\n",
    "    ax.xaxis.set_ticks_position('none')\n",
    "\n",
    "    # remove grid lines (dotted lines inside plot)\n",
    "    ax.grid(False)\n",
    "\n",
    "    # remove plot frame\n",
    "    ax.set_frame_on(False)\n",
    "\n",
    "    # labeling \n",
    "    labels = df_to_plot[series_name].value_counts().index\n",
    "    labels_cnv = [str(labels[i]) for i, acct in enumerate(labels)]\n",
    "\n",
    "    # using the actual data to plot\n",
    "    value_count_series = df_to_plot[series_name].value_counts(1)[::-1] * 100\n",
    "    value_count_series.plot(\n",
    "    ax=ax, \n",
    "    kind='barh', \n",
    "    color=(0.9698, 0.6378, 0.3373), \n",
    "    alpha=a, \n",
    "    edgecolor='w',\n",
    "    )\n",
    "    \n",
    "    # multiply xticks by format into pct\n",
    "    fmt = '%.0f%%' # Format for the ticks, e.g. '40%'\n",
    "    xticks = matplotlib.ticker.FormatStrFormatter(fmt)\n",
    "    ax.xaxis.set_major_formatter(xticks)\n",
    "    ax.xaxis.set_ticks(ax.xaxis.get_majorticklocs()[:-1])\n",
    "\n",
    "    \n",
    "    plt.tight_layout()\n",
    "    plt.show()\n",
    "    ;\n",
    "\n",
    "#shorten up the spacing for this\n",
    "plot_dist(df_feature_M, 'browser_type', 'Browser distribution')"
   ]
  },
  {
   "cell_type": "markdown",
   "metadata": {},
   "source": [
    "### What are the top 6 browsers?"
   ]
  },
  {
   "cell_type": "code",
   "execution_count": 19,
   "metadata": {
    "collapsed": false
   },
   "outputs": [
    {
     "name": "stdout",
     "output_type": "stream",
     "text": [
      "Safari\n",
      "Firefox\n",
      "AndroidBrowser\n",
      "Microsoft Internet Explorer\n",
      "Unknown\n",
      "Chrome\n"
     ]
    }
   ],
   "source": [
    "#note: 'Unknown' is about 25%\n",
    "#what are the top 6 browsers?\n",
    "\n",
    "top_6_browsers = df_feature_M.browser_type.value_counts().index[::-1][-6:]\n",
    "print '\\n'.join(top_6_browsers)"
   ]
  },
  {
   "cell_type": "code",
   "execution_count": 20,
   "metadata": {
    "collapsed": true
   },
   "outputs": [],
   "source": [
    "map_misc_browser = {\n",
    "    'NetFront': 'misc',\n",
    "    'SeaMonkey': 'misc',\n",
    "    'NokiaOvi': 'misc',\n",
    "    'BrowserNG': 'misc',\n",
    "    'OperaMobile': 'misc',\n",
    "    'Dolfin': 'misc',\n",
    "    'MAUI': 'misc',\n",
    "    'Openwave': 'misc',\n",
    "    'PhantomJS': 'misc',\n",
    "    'MSEdge': 'misc',\n",
    "    'TelecaBrowser': 'misc',\n",
    "    'UPBrowser': 'misc',\n",
    "    'Konqueror': 'misc',\n",
    "    'Jasmine': 'misc',\n",
    "    'NintendoBrowser': 'misc',\n",
    "}\n",
    "\n",
    "df_feature_M.browser_type = df_feature_M.browser_type.apply(lambda x: map_misc_browser.get(x) if map_misc_browser.get(x) else x)"
   ]
  },
  {
   "cell_type": "code",
   "execution_count": 21,
   "metadata": {
    "collapsed": true
   },
   "outputs": [],
   "source": [
    "def plot_hourly_histograms(df, date_time_field='timestamp_(UTC)', convert_to_this_tz_field='timezone', ax_index=None, plot_title=None):\n",
    "    from pytz import timezone\n",
    "    \n",
    "    if 'datetime' not in str(df_feature_M['timestamp_(UTC)'].dtype):\n",
    "        df[date_time_field] = pd.DatetimeIndex (df[date_time_field].astype('datetime64[s]'))\n",
    "\n",
    "    #this needs to be refactored to something that's optimized for numpy arrays\n",
    "    lis = []    \n",
    "    for stamp, zone in df[[date_time_field, 'timezone']].values:\n",
    "        try:\n",
    "            lis.append(timezone(zone).localize(stamp))\n",
    "        except AttributeError:\n",
    "            lis.append(np.nan)\n",
    "\n",
    "\n",
    "    df['new'] = pd.Series(lis)\n",
    "    df['hour'] = pd.DatetimeIndex(df['new']).hour\n",
    "\n",
    "    if ax_index:\n",
    "        #remove the y_labels\n",
    "        df.hour.plot(kind='hist',bins=24, ax=axes[ax_index[0]][ax_index[1]], title=plot_title)\n",
    "    else:\n",
    "        #df['N'].hist(by=df['Letter']) won't work here\n",
    "        df_feature_M.hour.plot(kind='hist',bins=24,  title=plot_title)\n",
    "    pass\n",
    "\n"
   ]
  },
  {
   "cell_type": "code",
   "execution_count": 22,
   "metadata": {
    "collapsed": false
   },
   "outputs": [
    {
     "data": {
      "image/png": "[encoded data removed]",
      "text/plain": [
       "<matplotlib.figure.Figure at 0x10ea263d0>"
      ]
     },
     "metadata": {},
     "output_type": "display_data"
    }
   ],
   "source": [
    "fig, axes = plt.subplots(nrows=1, ncols=1, figsize=(12, 4))\n",
    "\n",
    "plot_hourly_histograms(df_feature_M, plot_title='Local hours: All Browsers')"
   ]
  },
  {
   "cell_type": "code",
   "execution_count": 23,
   "metadata": {
    "collapsed": false
   },
   "outputs": [
    {
     "data": {
      "text/plain": [
       "''"
      ]
     },
     "execution_count": 23,
     "metadata": {},
     "output_type": "execute_result"
    },
    {
     "data": {
      "image/png": "[encoded data removed]",
      "text/plain": [
       "<matplotlib.figure.Figure at 0x10fe92e50>"
      ]
     },
     "metadata": {},
     "output_type": "display_data"
    }
   ],
   "source": [
    "fig, axes = plt.subplots(nrows=2, ncols=3, figsize=(12, 4))\n",
    "\n",
    "for i, browser in enumerate(top_6_browsers):\n",
    "    plot_hourly_histograms(df_feature_M[df_feature_M.browser_type == browser], ax_index=(i % 2, i % 3), plot_title=browser)\n",
    "\n",
    "plt.tight_layout()\n",
    ";"
   ]
  },
  {
   "cell_type": "code",
   "execution_count": 24,
   "metadata": {
    "collapsed": false,
    "scrolled": true
   },
   "outputs": [
    {
     "data": {
      "text/html": [
       "<div>\n",
       "<table border=\"1\" class=\"dataframe\">\n",
       "  <thead>\n",
       "    <tr style=\"text-align: right;\">\n",
       "      <th></th>\n",
       "      <th>browser_type</th>\n",
       "      <th>Chrome</th>\n",
       "      <th>Microsoft Internet Explorer</th>\n",
       "      <th>Unknown</th>\n",
       "      <th>Safari</th>\n",
       "      <th>Firefox</th>\n",
       "      <th>AndroidBrowser</th>\n",
       "      <th>Opera</th>\n",
       "      <th>misc</th>\n",
       "      <th>UCBrowser</th>\n",
       "      <th>ChromeiOS</th>\n",
       "      <th>Opera Mobile</th>\n",
       "      <th>GoogleBot</th>\n",
       "    </tr>\n",
       "    <tr>\n",
       "      <th>country_(two-letter_code)</th>\n",
       "      <th></th>\n",
       "      <th></th>\n",
       "      <th></th>\n",
       "      <th></th>\n",
       "      <th></th>\n",
       "      <th></th>\n",
       "      <th></th>\n",
       "      <th></th>\n",
       "      <th></th>\n",
       "      <th></th>\n",
       "      <th></th>\n",
       "      <th></th>\n",
       "      <th></th>\n",
       "    </tr>\n",
       "  </thead>\n",
       "  <tbody>\n",
       "    <tr>\n",
       "      <th>A1</th>\n",
       "      <td>10</td>\n",
       "      <td>0.000000</td>\n",
       "      <td>0.100000</td>\n",
       "      <td>0.100000</td>\n",
       "      <td>0.000000</td>\n",
       "      <td>0.600000</td>\n",
       "      <td>0.000000</td>\n",
       "      <td>0.0000</td>\n",
       "      <td>0.0</td>\n",
       "      <td>0.200</td>\n",
       "      <td>0.0</td>\n",
       "      <td>0.0</td>\n",
       "      <td>0.0</td>\n",
       "    </tr>\n",
       "    <tr>\n",
       "      <th>A2</th>\n",
       "      <td>16</td>\n",
       "      <td>0.000000</td>\n",
       "      <td>0.000000</td>\n",
       "      <td>0.000000</td>\n",
       "      <td>0.000000</td>\n",
       "      <td>0.562500</td>\n",
       "      <td>0.000000</td>\n",
       "      <td>0.0625</td>\n",
       "      <td>0.0</td>\n",
       "      <td>0.375</td>\n",
       "      <td>0.0</td>\n",
       "      <td>0.0</td>\n",
       "      <td>0.0</td>\n",
       "    </tr>\n",
       "    <tr>\n",
       "      <th>AE</th>\n",
       "      <td>39</td>\n",
       "      <td>0.435897</td>\n",
       "      <td>0.051282</td>\n",
       "      <td>0.256410</td>\n",
       "      <td>0.153846</td>\n",
       "      <td>0.000000</td>\n",
       "      <td>0.102564</td>\n",
       "      <td>0.0000</td>\n",
       "      <td>0.0</td>\n",
       "      <td>0.000</td>\n",
       "      <td>0.0</td>\n",
       "      <td>0.0</td>\n",
       "      <td>0.0</td>\n",
       "    </tr>\n",
       "    <tr>\n",
       "      <th>AF</th>\n",
       "      <td>2</td>\n",
       "      <td>0.000000</td>\n",
       "      <td>0.000000</td>\n",
       "      <td>0.000000</td>\n",
       "      <td>0.000000</td>\n",
       "      <td>0.000000</td>\n",
       "      <td>1.000000</td>\n",
       "      <td>0.0000</td>\n",
       "      <td>0.0</td>\n",
       "      <td>0.000</td>\n",
       "      <td>0.0</td>\n",
       "      <td>0.0</td>\n",
       "      <td>0.0</td>\n",
       "    </tr>\n",
       "    <tr>\n",
       "      <th>AL</th>\n",
       "      <td>11</td>\n",
       "      <td>0.363636</td>\n",
       "      <td>0.181818</td>\n",
       "      <td>0.272727</td>\n",
       "      <td>0.000000</td>\n",
       "      <td>0.090909</td>\n",
       "      <td>0.090909</td>\n",
       "      <td>0.0000</td>\n",
       "      <td>0.0</td>\n",
       "      <td>0.000</td>\n",
       "      <td>0.0</td>\n",
       "      <td>0.0</td>\n",
       "      <td>0.0</td>\n",
       "    </tr>\n",
       "  </tbody>\n",
       "</table>\n",
       "</div>"
      ],
      "text/plain": [
       "                           browser_type    Chrome  \\\n",
       "country_(two-letter_code)                           \n",
       "A1                                   10  0.000000   \n",
       "A2                                   16  0.000000   \n",
       "AE                                   39  0.435897   \n",
       "AF                                    2  0.000000   \n",
       "AL                                   11  0.363636   \n",
       "\n",
       "                           Microsoft Internet Explorer   Unknown    Safari  \\\n",
       "country_(two-letter_code)                                                    \n",
       "A1                                            0.100000  0.100000  0.000000   \n",
       "A2                                            0.000000  0.000000  0.000000   \n",
       "AE                                            0.051282  0.256410  0.153846   \n",
       "AF                                            0.000000  0.000000  0.000000   \n",
       "AL                                            0.181818  0.272727  0.000000   \n",
       "\n",
       "                            Firefox  AndroidBrowser   Opera  misc  UCBrowser  \\\n",
       "country_(two-letter_code)                                                      \n",
       "A1                         0.600000        0.000000  0.0000   0.0      0.200   \n",
       "A2                         0.562500        0.000000  0.0625   0.0      0.375   \n",
       "AE                         0.000000        0.102564  0.0000   0.0      0.000   \n",
       "AF                         0.000000        1.000000  0.0000   0.0      0.000   \n",
       "AL                         0.090909        0.090909  0.0000   0.0      0.000   \n",
       "\n",
       "                           ChromeiOS  Opera Mobile  GoogleBot  \n",
       "country_(two-letter_code)                                      \n",
       "A1                               0.0           0.0        0.0  \n",
       "A2                               0.0           0.0        0.0  \n",
       "AE                               0.0           0.0        0.0  \n",
       "AF                               0.0           0.0        0.0  \n",
       "AL                               0.0           0.0        0.0  "
      ]
     },
     "execution_count": 24,
     "metadata": {},
     "output_type": "execute_result"
    }
   ],
   "source": [
    "def df_to_perc_breakouts_per_country(input_df):\n",
    "    '''\n",
    "    INPUT: DF with each restuarant and grade listed (Raw Data)\n",
    "    OUTPUT: DF with percentage composition by cuisine type\n",
    "    '''\n",
    "    output_df = input_df[['country_(two-letter_code)','browser_type']].groupby('country_(two-letter_code)').count()\n",
    "\n",
    "    #function used to normalize grades by percentage\n",
    "    perc_computation_function = \\\n",
    "    lambda x: x[x['browser_type'] == str(letter)].count() / x['browser_type'].count()\n",
    "\n",
    "    for letter in input_df['browser_type'].unique():\n",
    "        temp_df = input_df.groupby('country_(two-letter_code)')\n",
    "        temp_df = temp_df.apply(perc_computation_function)\n",
    "        output_df[str(letter)] = temp_df['browser_type']    \n",
    "\n",
    "    return output_df\n",
    "\n",
    "df_countries_stratified_by_browser_type = df_to_perc_breakouts_per_country(df_feature_M)\n",
    "df_countries_stratified_by_browser_type[:5]"
   ]
  },
  {
   "cell_type": "code",
   "execution_count": 25,
   "metadata": {
    "collapsed": false
   },
   "outputs": [],
   "source": [
    "import pycountry\n",
    "\n",
    "# convert names of countries\n",
    "def convert_country_codes_index(df):\n",
    "    new_idx = {country_code: pycountry.countries.get(alpha2=country_code).name for country_code in df.index}\n",
    "    return df.rename(index=new_idx)"
   ]
  },
  {
   "cell_type": "markdown",
   "metadata": {},
   "source": [
    "## Top Countries\n",
    "\n",
    "the top 20 countries comprise ~78.5% of the activity. Not surprisingly, US seem users seems to have the largest user-base. What's interesting is that Taiwan is a runner up and Brazil right after -- would'nt have guessed! "
   ]
  },
  {
   "cell_type": "code",
   "execution_count": 26,
   "metadata": {
    "collapsed": false
   },
   "outputs": [
    {
     "name": "stdout",
     "output_type": "stream",
     "text": [
      "0.7893\n"
     ]
    },
    {
     "data": {
      "image/png": "[encoded data removed]",
      "text/plain": [
       "<matplotlib.figure.Figure at 0x10fec1c90>"
      ]
     },
     "metadata": {},
     "output_type": "display_data"
    }
   ],
   "source": [
    "top_x = 20\n",
    "countries_barchart = df_feature_M['country_(two-letter_code)'].value_counts(1)[:top_x][::-1]\n",
    "top_x_countries = countries_barchart.index\n",
    "countries_barchart_encoded = convert_country_codes_index(countries_barchart)\n",
    "countries_barchart_encoded.plot(kind='barh', figsize=(10,10))\n",
    "print countries_barchart_encoded.sum()"
   ]
  },
  {
   "cell_type": "markdown",
   "metadata": {},
   "source": [
    "Note the gaps in the barchart are made because we're only limited to the top 6 browsers so not everythign sums to 100%"
   ]
  },
  {
   "cell_type": "code",
   "execution_count": 27,
   "metadata": {
    "collapsed": false,
    "scrolled": false
   },
   "outputs": [
    {
     "data": {
      "image/png": "[encoded data removed]",
      "text/plain": [
       "<matplotlib.figure.Figure at 0x11258d250>"
      ]
     },
     "metadata": {},
     "output_type": "display_data"
    }
   ],
   "source": [
    "def plot_stacked_bar(df_to_plot, label, color_map = 'YlOrBr'):\n",
    "    '''\n",
    "    INPUT: DF, label(string) for the x-axis to be displayed at the top\n",
    "    OUTPUT: Stacked Bar Chart\n",
    "    '''\n",
    "    # create a figure of given size\n",
    "    fig = plt.figure(figsize=(15,15))\n",
    "\n",
    "    # add a subplot\n",
    "    ax = fig.add_subplot(111)\n",
    "\n",
    "    # set color transparency (0: transparent; 1: solid)\n",
    "    a = 0.8\n",
    "\n",
    "    # set x axis label on top of plot, set label text\n",
    "    xlab = label\n",
    "    ax.set_xlabel(xlab, fontsize=20, alpha=a, ha='left')\n",
    "    ax.xaxis.set_label_coords(0, 1.04)\n",
    "\n",
    "    # position x tick labels on top\n",
    "    ax.xaxis.tick_top()\n",
    "\n",
    "    # remove tick lines in x and y axes\n",
    "    ax.yaxis.set_ticks_position('none')\n",
    "    ax.xaxis.set_ticks_position('none')\n",
    "\n",
    "    # remove grid lines (dotted lines inside plot)\n",
    "    ax.grid(False)\n",
    "\n",
    "    # Remove plot frame\n",
    "    ax.set_frame_on(False)\n",
    "\n",
    "    # using the actual data to plot\n",
    "    df_to_plot[::-1].plot(\n",
    "    ax=ax, \n",
    "    kind='barh', \n",
    "    alpha=a, \n",
    "    edgecolor='w',\n",
    "    fontsize=12, \n",
    "    grid=True, \n",
    "    width=.8, \n",
    "    stacked=True,\n",
    "    cmap=get_cmap(color_map)\n",
    "    )\n",
    "\n",
    "\n",
    "    # multiply xticks by format into pct\n",
    "    fmt = '%.0f%%' # Format you want the ticks, e.g. '40%'\n",
    "    xticks = matplotlib.ticker.FormatStrFormatter(fmt)\n",
    "    ax.xaxis.set_major_formatter(xticks)\n",
    "    ax.xaxis.set_ticks(ax.xaxis.get_majorticklocs()[:-1])\n",
    "\n",
    "    plt.legend(prop={'size':20}, frameon=False, fancybox=None, loc=\"upper left\", bbox_to_anchor=(1,1))\n",
    "    plt.tight_layout()\n",
    "    plt.show()\n",
    "    ;\n",
    "\n",
    "\n",
    "#limit to top 6 browsers\n",
    "df_countries_stratified_by_browser_type_top_browsers = df_countries_stratified_by_browser_type[top_6_browsers] \n",
    "\n",
    "# limit to the to the top 20 countries\n",
    "df_countries_stratified_by_browser_type_top_browsers_country = df_countries_stratified_by_browser_type_top_browsers.ix[top_x_countries]\n",
    "\n",
    "# convert names of countries\n",
    "df_countries_stratified_by_browser_type_top_browsers_country = convert_country_codes_index(df_countries_stratified_by_browser_type_top_browsers_country)\n",
    "\n",
    "#limit to top 5 countries and top 6 browsers + misc browsers\n",
    "plot_stacked_bar(df_countries_stratified_by_browser_type_top_browsers_country * 100, 'Browser composition by country')\n",
    "\n",
    "#*note the gaps in the barchart are made because we're only limited to the top 6 browsers so not everythign sums to 100%"
   ]
  },
  {
   "cell_type": "markdown",
   "metadata": {},
   "source": [
    "## Known and Unknown Browsers\n",
    "\n",
    "Stripping the 'Unknown' browser types we quickly see most of the Unknown's are still coming from the US but larger proportion are coming from abroad though India and few others have slipped off the charts. That is, their UA strings must be easier to parse. "
   ]
  },
  {
   "cell_type": "code",
   "execution_count": 28,
   "metadata": {
    "collapsed": true
   },
   "outputs": [],
   "source": [
    "#slide out 'unknown' and use it as a test set\n",
    "df_feature_M_prediction_set = df_feature_M[df_feature_M.browser_type == 'Unknown']\n",
    "df_feature_M_training_set = df_feature_M[df_feature_M.browser_type != 'Unknown']"
   ]
  },
  {
   "cell_type": "code",
   "execution_count": 29,
   "metadata": {
    "collapsed": false
   },
   "outputs": [
    {
     "name": "stdout",
     "output_type": "stream",
     "text": [
      "0.881773399015\n",
      "0.772313544355\n"
     ]
    },
    {
     "data": {
      "image/png": "[encoded data removed]",
      "text/plain": [
       "<matplotlib.figure.Figure at 0x112f68a10>"
      ]
     },
     "metadata": {},
     "output_type": "display_data"
    }
   ],
   "source": [
    "fig, axes = plt.subplots(nrows=1, ncols=2,figsize=(15, 8))\n",
    "top_x = 20\n",
    "unknown_bar_c = df_feature_M_prediction_set['country_(two-letter_code)'].value_counts(1)[:top_x][::-1]\n",
    "unknown_bar_c_encoded = convert_country_codes_index(unknown_bar_c)\n",
    "unknown_bar_c_encoded.plot(kind='bar', ax=axes[0], title='Unknown')\n",
    "print unknown_bar_c_encoded.sum()\n",
    "\n",
    "top_x = 20\n",
    "known_bar_c = df_feature_M_training_set['country_(two-letter_code)'].value_counts(1)[:top_x][::-1]\n",
    "known_bar_c_encoded = convert_country_codes_index(known_bar_c)\n",
    "known_bar_c_encoded.plot(kind='bar', ax=axes[1], title='Known')\n",
    "print known_bar_c_encoded.sum()"
   ]
  },
  {
   "cell_type": "code",
   "execution_count": 30,
   "metadata": {
    "collapsed": false
   },
   "outputs": [],
   "source": [
    "#test/train split\n",
    "df_feature_M_ = df_feature_M_training_set.drop(drop_of_interest, axis=1).dropna()\n",
    "labels = df_feature_M_.pop('browser_type')\n",
    "feature_m = df_feature_M_\n",
    "\n",
    "label_encoder = LabelEncoder()\n",
    "encoded_labels = label_encoder.fit_transform(labels)\n",
    "\n",
    "#test_train split\n",
    "x_train, x_hold_out, encoded_y_train, encoded_y_hold_out = train_test_split(\n",
    "        feature_m, \n",
    "        encoded_labels, \n",
    "        test_size=.20, \n",
    "        random_state=42\n",
    ")"
   ]
  },
  {
   "cell_type": "code",
   "execution_count": 31,
   "metadata": {
    "collapsed": false,
    "scrolled": true
   },
   "outputs": [],
   "source": [
    "xgb = XGBClassifier(\n",
    "    max_depth=1,\n",
    "    learning_rate=1,\n",
    "    n_estimators=1,\n",
    "    objective=\"multi:softprob\",\n",
    "    gamma=0,\n",
    "    min_child_weight=1,\n",
    "    max_delta_step=0,\n",
    "    subsample=1,\n",
    "    colsample_bytree=1,\n",
    "    colsample_bylevel=1,\n",
    "    reg_alpha=0,\n",
    "    reg_lambda=1,\n",
    "    scale_pos_weight=1,\n",
    "    base_score=0.5,\n",
    "    nthread=-1,\n",
    "    seed=42\n",
    ")\n",
    "\n",
    "#this is done to hold the training/tuning fixed\n",
    "kf = KFold(len(x_train), n_folds=10, random_state=42)"
   ]
  },
  {
   "cell_type": "code",
   "execution_count": 32,
   "metadata": {
    "collapsed": false,
    "scrolled": true
   },
   "outputs": [],
   "source": [
    "#ndcg\n",
    "xgb_ndcg_scores = cross_val_score(xgb, x_train, encoded_y_train, cv=kf, scoring=ndcg_scorer)"
   ]
  },
  {
   "cell_type": "code",
   "execution_count": 33,
   "metadata": {
    "collapsed": false
   },
   "outputs": [
    {
     "name": "stdout",
     "output_type": "stream",
     "text": [
      "0.743139156133 0.759386006615 0.054804969972\n"
     ]
    }
   ],
   "source": [
    "print np.mean(xgb_ndcg_scores), np.median(xgb_ndcg_scores), np.std(xgb_ndcg_scores)"
   ]
  },
  {
   "cell_type": "markdown",
   "metadata": {},
   "source": [
    "## Scoring Metric\n",
    "Usually when the class distribution is unbalanced, accuracy is considered a poor choice as it gives high scores to models which just predict the most frequent class.\n",
    "\n",
    "*Note -- I still need to implement ROC AUC for multilabel. I believe it'll be a better metric for evaluation since it's not threshold sensitive."
   ]
  },
  {
   "cell_type": "code",
   "execution_count": 34,
   "metadata": {
    "collapsed": false
   },
   "outputs": [
    {
     "name": "stdout",
     "output_type": "stream",
     "text": [
      "0.441964815212 0.440645354248 0.0073386665336\n"
     ]
    }
   ],
   "source": [
    "from sklearn.metrics import precision_score\n",
    "from sklearn.metrics import f1_score\n",
    "from sklearn.metrics import roc_auc_score\n",
    "from sklearn.metrics import make_scorer\n",
    "\n",
    "#macro is better than micro in this case due to the \n",
    "f1_score = make_scorer(\n",
    "            score_func=f1_score,\n",
    "            pos_label=1,\n",
    "            greater_is_better=True,\n",
    "            average='weighted'\n",
    "           )\n",
    "\n",
    "xgb_macro_scores = cross_val_score(xgb, x_train, encoded_y_train, cv=kf, scoring=f1_score)\n",
    "print np.mean(xgb_macro_scores), np.median(xgb_macro_scores), np.std(xgb_macro_scores)"
   ]
  },
  {
   "cell_type": "code",
   "execution_count": 35,
   "metadata": {
    "collapsed": false,
    "scrolled": true
   },
   "outputs": [],
   "source": [
    "clf = XGBClassifier(\n",
    "    max_depth=1,\n",
    "    learning_rate=1,\n",
    "    n_estimators=1,\n",
    "    objective=\"multi:softprob\",\n",
    "    gamma=0,\n",
    "    min_child_weight=1,\n",
    "    max_delta_step=0,\n",
    "    subsample=1,\n",
    "    colsample_bytree=1,\n",
    "    colsample_bylevel=1,\n",
    "    reg_alpha=0,\n",
    "    reg_lambda=1,\n",
    "    scale_pos_weight=1,\n",
    "    base_score=0.5,\n",
    "    nthread=-1,\n",
    "    seed=42\n",
    ")\n",
    "\n",
    "def multithread_map(fn, work_list, num_workers=50):\n",
    "    from futures import ThreadPoolExecutor\n",
    "    '''\n",
    "    spawns a threadpool and assigns num_workers to some \n",
    "    list, array, or any other container. Motivation behind \n",
    "    this was for functions that involve scraping.\n",
    "    '''\n",
    "    with ThreadPoolExecutor(max_workers=num_workers) as executor:\n",
    "        return list(executor.map(fn, work_list))\n",
    "\n",
    "\n",
    "def get_scores(args):\n",
    "    \n",
    "    #done this way to support the map function within the threadpool\n",
    "    clf, x_train, encoded_y_train = args \n",
    "    \n",
    "    #this is done to hold the training/tuning fixed\n",
    "    kf = KFold(len(x_train), n_folds=10, random_state=42)\n",
    "\n",
    "    #grabbing scores\n",
    "    scores = cross_val_score(\n",
    "                            clf, \n",
    "                            x_train, \n",
    "                            encoded_y_train, \n",
    "                            cv=kf, \n",
    "                            \n",
    "                            #put in arg to change this\n",
    "                            scoring=f1_score\n",
    "                    )\n",
    "    return np.mean(scores), x_train.shape[0]\n",
    "\n",
    "def get_optimal_number_of_training_examples(clf, x_train, y_train, number_of_steps=100, step_size=100, multithread=False):\n",
    "\n",
    "    if multithread:\n",
    "        #rename i to curr_step\n",
    "        work_list = [(clf, x_train[step_size * i:], encoded_y_train[step_size * i:]) for i in range(number_of_steps)]\n",
    "        score_keeper = multithread_map(get_scores, work_list)\n",
    "    else:\n",
    "        #simple way to do it\n",
    "        score_keeper = []\n",
    "        for i in range(number_of_steps):\n",
    "            number_of_examples_to_trim_off = step_size * i\n",
    "            score_keeper.append(\n",
    "                get_scores((\n",
    "                    clf, x_train[number_of_examples_to_trim_off:], \n",
    "                    encoded_y_train[number_of_examples_to_trim_off:]\n",
    "                ))\n",
    "            )\n",
    "\n",
    "    \n",
    "    df = pd.DataFrame(score_keeper).set_index(1)\n",
    "    df.sort_index().rename(columns={0:'performance',1:'number_of_examples'}).plot()\n",
    "\n",
    "    "
   ]
  },
  {
   "cell_type": "markdown",
   "metadata": {},
   "source": [
    "## Shape of distribution and skewness\n",
    "\n",
    "This is an important phase of preprocessing because many machine learning/statistical models assume the data is normally distributed and more often than not, this isn't the case as we'll see below. It's in our best interest to render the distribution such that it's normally distributed to leverage the most predictive power out of the models.\n",
    "\n",
    "First we'll start with centering and scaling by 0 mean and unit variance aka normalization, standardization. Most data scientist (including myself at one point) think that by scaling we're setting the data to normally shaped distribution but this is a fallacy. Below we have a distribution of hourly check-ins. Note how the skewness is the same, the shape visually is also the same however the x-scale changes.\n"
   ]
  },
  {
   "cell_type": "code",
   "execution_count": 82,
   "metadata": {
    "collapsed": true
   },
   "outputs": [],
   "source": [
    "def distribution_stats_text_label(position_x, position_y, data):\n",
    "    label_position_decrement = 0.08 * position_y\n",
    "    plt.text(position_x, position_y, \"Skewness: {0:.2f}\".format(skew(data))) \n",
    "    plt.text(position_x, position_y - label_position_decrement, \"Mean: {0:.2f}\".format(data.mean())) \n",
    "    plt.text(position_x, position_y - 2 * label_position_decrement, \"Std: {0:.2f}\".format(data.std())) \n",
    "    return None\n"
   ]
  },
  {
   "cell_type": "code",
   "execution_count": 83,
   "metadata": {
    "collapsed": false
   },
   "outputs": [
    {
     "data": {
      "image/png": "[encoded data removed]",
      "text/plain": [
       "<matplotlib.figure.Figure at 0x110777790>"
      ]
     },
     "metadata": {},
     "output_type": "display_data"
    }
   ],
   "source": [
    "figure = plt.figure(figsize=(10,5))\n",
    "figure.add_subplot(121)   \n",
    "\n",
    "plt.hist(x_train.hour, alpha=0.75) \n",
    "plt.title(\"not scaled\") \n",
    "distribution_stats_text_label(2, 1500, x_train.hour)\n",
    "\n",
    "figure.add_subplot(122)\n",
    "scaled_xtrain_hour = preprocessing.scale(x_train.hour)\n",
    "distribution_stats_text_label(-2, 1500, scaled_xtrain_hour)\n",
    "\n",
    "plt.hist(scaled_xtrain_hour, alpha=0.75) \n",
    "plt.title(\"scaled\")\n",
    "\n",
    "plt.show()"
   ]
  },
  {
   "cell_type": "markdown",
   "metadata": {},
   "source": [
    "# Scaling by 0 mean and unit variance doesn't change the shape\n",
    "# What's scaling actually do?\n",
    "    # it subtracts each observation by the mean and divides by the variance\n",
    "    # which centers the data points around 0. That is, the new mean and makes the std dev 1\n",
    "    # penalty like ridge and lasso ar very beta dependant\n",
    "    # model stability and convergence time\n"
   ]
  },
  {
   "cell_type": "markdown",
   "metadata": {},
   "source": [
    "# How to actually make our distribution normal?\n",
    "\n",
    "There are a number of transformations we could use to make our distribution normal.\n",
    "\n",
    "### As a reference we'd want our features/predictors to be in shaped normally just like the plot below."
   ]
  },
  {
   "cell_type": "code",
   "execution_count": 95,
   "metadata": {
    "collapsed": false
   },
   "outputs": [
    {
     "data": {
      "image/png": "[encoded data removed]",
      "text/plain": [
       "<matplotlib.figure.Figure at 0x112fc4310>"
      ]
     },
     "metadata": {},
     "output_type": "display_data"
    },
    {
     "data": {
      "text/plain": [
       "''"
      ]
     },
     "execution_count": 95,
     "metadata": {},
     "output_type": "execute_result"
    }
   ],
   "source": [
    "plt.figure(figsize=(10, 5))\n",
    "guassian_distributed_points = np.random.normal(size=150000)\n",
    "plt.hist(guassian_distributed_points, bins=25, alpha=0.75)\n",
    "distribution_stats_text_label(-4, 23000, guassian_distributed_points)\n",
    "plt.show()\n",
    ";"
   ]
  },
  {
   "cell_type": "code",
   "execution_count": 36,
   "metadata": {
    "collapsed": false,
    "scrolled": true
   },
   "outputs": [],
   "source": [
    "from sklearn import preprocessing\n",
    "from scipy.stats import skew\n",
    "from scipy.stats import boxcox"
   ]
  },
  {
   "cell_type": "code",
   "execution_count": 118,
   "metadata": {
    "collapsed": true
   },
   "outputs": [],
   "source": [
    "\n",
    "def plot_transformation(data, name_of_transformation):\n",
    "\n",
    "    #setting up canvas\n",
    "    figure = plt.figure(figsize=(10,5))\n",
    "    plt.suptitle(name_of_transformation)\n",
    "    figure.add_subplot(121)\n",
    "    plt.hist(data, alpha=0.75) \n",
    "    distribution_stats_text_label(-2, 1500, data)\n",
    "\n",
    "    figure.add_subplot(122)\n",
    "    plt.boxplot(data)\n",
    "\n",
    "    plt.show()\n",
    "\n"
   ]
  },
  {
   "cell_type": "code",
   "execution_count": 120,
   "metadata": {
    "collapsed": false
   },
   "outputs": [
    {
     "data": {
      "image/png": "[encoded data removed]",
      "text/plain": [
       "<matplotlib.figure.Figure at 0x112a91810>"
      ]
     },
     "metadata": {},
     "output_type": "display_data"
    }
   ],
   "source": [
    "#tranformation\n",
    "scaled_xtrain_hour = preprocessing.scale(x_train.hour)\n",
    "plot_transformation(scaled_xtrain_hour, 'Normalization')"
   ]
  },
  {
   "cell_type": "code",
   "execution_count": 121,
   "metadata": {
    "collapsed": false
   },
   "outputs": [
    {
     "data": {
      "image/png": "[encoded data removed]",
      "text/plain": [
       "<matplotlib.figure.Figure at 0x11056ee90>"
      ]
     },
     "metadata": {},
     "output_type": "display_data"
    }
   ],
   "source": [
    "#tranformation\n",
    "sqrt_xtrain_hour = preprocessing.scale(np.sqrt(x_train.hour))\n",
    "plot_transformation(sqrt_xtrain_hour, 'Square Root')"
   ]
  },
  {
   "cell_type": "code",
   "execution_count": 122,
   "metadata": {
    "collapsed": false
   },
   "outputs": [
    {
     "data": {
      "image/png": "[encoded data removed]",
      "text/plain": [
       "<matplotlib.figure.Figure at 0x110404e50>"
      ]
     },
     "metadata": {},
     "output_type": "display_data"
    }
   ],
   "source": [
    "#tranformation\n",
    "log_xtrain_hour = preprocessing.scale(np.log(x_train.hour))\n",
    "plot_transformation(log_xtrain_hour, 'Log')"
   ]
  },
  {
   "cell_type": "code",
   "execution_count": 123,
   "metadata": {
    "collapsed": false
   },
   "outputs": [
    {
     "data": {
      "image/png": "[encoded data removed]",
      "text/plain": [
       "<matplotlib.figure.Figure at 0x112a90fd0>"
      ]
     },
     "metadata": {},
     "output_type": "display_data"
    }
   ],
   "source": [
    "#tranformation\n",
    "#need a write-up as to what I'm doing here: why am I chosing the first value in the arr\n",
    "#what's box cox do\n",
    "boxcox_xtrain_hour = preprocessing.scale(boxcox(x_train.hour + 1)[0])\n",
    "plot_transformation(boxcox_xtrain_hour, 'Post Box Cox Test')"
   ]
  },
  {
   "cell_type": "markdown",
   "metadata": {},
   "source": [
    "# Which one did we end up going with?\n",
    "    Scipy's Box Cox function automatically finds the best transformation for your data and applies it. I'll spare you the technical details but for more information about how the box cox test checkout this link."
   ]
  },
  {
   "cell_type": "code",
   "execution_count": 124,
   "metadata": {
    "collapsed": true
   },
   "outputs": [],
   "source": [
    "## we could actually see here there's a bump up in model performance."
   ]
  },
  {
   "cell_type": "markdown",
   "metadata": {},
   "source": [
    "# anomalies"
   ]
  },
  {
   "cell_type": "code",
   "execution_count": null,
   "metadata": {
    "collapsed": true
   },
   "outputs": [],
   "source": []
  },
  {
   "cell_type": "markdown",
   "metadata": {},
   "source": [
    "## What's the correct training set size?\n",
    "\n",
    "Another key component of this problem is trying to figure out the proper size for the training sets. This is a big issue when you're dealing with problems with massive datasets. We could be naively dismissive and assume all the data is worth training on but it's not quite that simple. \n",
    "\n",
    "There's diminishing returns at a certain point and it's ideal to figure out where that point is. A side benefit to this exercise is also viewing the stability of a model as you add batches of new examples."
   ]
  },
  {
   "cell_type": "markdown",
   "metadata": {},
   "source": [
    "As we can see with Logistic Regression, we've clearly got more room to run. For XGB, we see a plateau at around 50000-52000 examples indicating we've maximized the number of examples for this particular model. This finding only speaks for this particular model and feature matrix. This graph could totally change if we did feature engineering or gridsearching.\n",
    "\n",
    "Note: the best practice way to do this is to sample examples randomly as opposed to adding them sequentially. (another fix for another iteration)"
   ]
  },
  {
   "cell_type": "code",
   "execution_count": null,
   "metadata": {
    "collapsed": false,
    "scrolled": true
   },
   "outputs": [],
   "source": [
    "from sklearn.ensemble import RandomForestClassifier\n",
    "from sklearn.linear_model import LogisticRegression\n",
    "\n",
    "get_optimal_number_of_training_examples(xgb, x_train, encoded_y_train, multithread=True)"
   ]
  },
  {
   "cell_type": "markdown",
   "metadata": {},
   "source": [
    "Logistic Regression seems to fair better not only in terms of raw performance but it's also showing more room for growth. This is pretty interesting considering XGB is considered to be one of the best classifiers in modern day machine learning."
   ]
  },
  {
   "cell_type": "code",
   "execution_count": null,
   "metadata": {
    "collapsed": false
   },
   "outputs": [],
   "source": [
    "get_optimal_number_of_training_examples(LogisticRegression(),  x_train, encoded_y_train, multithread=True)"
   ]
  },
  {
   "cell_type": "code",
   "execution_count": null,
   "metadata": {
    "collapsed": false
   },
   "outputs": [],
   "source": [
    "#fitting on entire set of data\n",
    "clf.fit(feature_m, encoded_labels)\n",
    "\n",
    "X_unknown_browsers = df_feature_M_prediction_set.drop(drop_of_interest + ['browser_type'], axis=1).dropna()\n",
    "y_pred = clf.predict(X_unknown_browsers)\n",
    "\n",
    "y_pred"
   ]
  },
  {
   "cell_type": "code",
   "execution_count": null,
   "metadata": {
    "collapsed": true
   },
   "outputs": [],
   "source": [
    "\n",
    "from scipy.stats import boxcar\n",
    "\n",
    "\n",
    "BoxCox_Transformed_Data = boxcox(OriginalData)"
   ]
  }
 ],
 "metadata": {
  "kernelspec": {
   "display_name": "Python 2",
   "language": "python",
   "name": "python2"
  },
  "language_info": {
   "codemirror_mode": {
    "name": "ipython",
    "version": 2
   },
   "file_extension": ".py",
   "mimetype": "text/x-python",
   "name": "python",
   "nbconvert_exporter": "python",
   "pygments_lexer": "ipython2",
   "version": "2.7.11"
  }
 },
 "nbformat": 4,
 "nbformat_minor": 0
}
